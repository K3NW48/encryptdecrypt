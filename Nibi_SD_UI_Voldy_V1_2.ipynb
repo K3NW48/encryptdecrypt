{
  "nbformat": 4,
  "nbformat_minor": 0,
  "metadata": {
    "colab": {
      "provenance": [],
      "collapsed_sections": [
        "9qrpRUJpno7L"
      ],
      "include_colab_link": true
    },
    "kernelspec": {
      "name": "python3",
      "display_name": "Python 3"
    },
    "language_info": {
      "name": "python"
    },
    "accelerator": "GPU",
    "gpuClass": "standard"
  },
  "cells": [
    {
      "cell_type": "markdown",
      "metadata": {
        "id": "view-in-github",
        "colab_type": "text"
      },
      "source": [
        "<a href=\"https://colab.research.google.com/github/K3NW48/EandD/blob/main/Nibi_SD_UI_Voldy_V1_2.ipynb\" target=\"_parent\"><img src=\"https://colab.research.google.com/assets/colab-badge.svg\" alt=\"Open In Colab\"/></a>"
      ]
    },
    {
      "cell_type": "markdown",
      "source": [
        "***As those before me***...Adapted from: https://colab.research.google.com/drive/1kw3egmSn-KgWsikYvOMjJkVDsPLjEMzl"
      ],
      "metadata": {
        "id": "gfKvWAVnz8OB"
      }
    },
    {
      "cell_type": "code",
      "source": [
        "import os\n",
        "os.kill(os.getpid(), 9) # This will crash Colab (required, everything will still be intact so dont worry)"
      ],
      "metadata": {
        "id": "p8FI40sFj9tU"
      },
      "execution_count": null,
      "outputs": []
    },
    {
      "cell_type": "markdown",
      "source": [
        "# Save images to Google Drive  \n",
        "**Warning: this will cause google to scan your drive, so if you intend to use this and worry about that kind of stuff, probablly just set this up on a clean account that's just for this colab**"
      ],
      "metadata": {
        "id": "gLwyoMB_Thxv"
      }
    },
    {
      "cell_type": "code",
      "source": [
        "from google.colab import drive # type: ignore\n",
        "\n",
        "try:\n",
        "   drive_path = \"/content/drive\"\n",
        "   drive.mount(drive_path,force_remount=False)\n",
        "except:\n",
        "   print(\"...error mounting drive or with drive path variables\")\n",
        "\n",
        "!cp -r \"/content/stable-diffusion-webui/outputs\" \"/content/drive/MyDrive\""
      ],
      "metadata": {
        "id": "PoEQPpkfTu8y"
      },
      "execution_count": null,
      "outputs": []
    },
    {
      "cell_type": "markdown",
      "source": [
        "# Ctl+F10 will run everything ***FROM*** selected cell  \n",
        "### This may take 1-2 minutes"
      ],
      "metadata": {
        "id": "6umWi5lh9k9c"
      }
    },
    {
      "cell_type": "code",
      "source": [
        "!git clone https://github.com/AUTOMATIC1111/stable-diffusion-webui\n",
        "%cd stable-diffusion-webui"
      ],
      "metadata": {
        "id": "sBbcB4vwj_jm"
      },
      "execution_count": null,
      "outputs": []
    },
    {
      "cell_type": "markdown",
      "source": [
        "# Huggingface Token  \n",
        "***Get a HuggingFace token [HERE](https://huggingface.co/docs/hub/security-tokens#how-to-manage-user-access-tokens)***"
      ],
      "metadata": {
        "id": "tuJ9koPYUchr"
      }
    },
    {
      "cell_type": "code",
      "source": [
        "huggingface_token = \"\" #@param {type:\"string\"}\n",
        "user_header = f\"\\\"Authorization: Bearer {user_token}\\\"\"\n",
        "!wget --header={user_header} https://huggingface.co/CompVis/stable-diffusion-v-1-4-original/resolve/main/sd-v1-4.ckpt -O /content/stable-diffusion-webui/model.ckpt"
      ],
      "metadata": {
        "id": "CT_J9L7oqLxG",
        "cellView": "form"
      },
      "execution_count": null,
      "outputs": []
    },
    {
      "cell_type": "code",
      "source": [
        "!COMMANDLINE_ARGS=\"--exit\" REQS_FILE=\"requirements.txt\" python launch.py"
      ],
      "metadata": {
        "id": "3mkPrwP_26oN"
      },
      "execution_count": null,
      "outputs": []
    },
    {
      "cell_type": "code",
      "source": [
        "%cd stable-diffusion-webui\n",
        "!git pull"
      ],
      "metadata": {
        "id": "CPrF8B1B286V"
      },
      "execution_count": null,
      "outputs": []
    },
    {
      "cell_type": "markdown",
      "source": [
        "# Runs UI  \n",
        "### Open to click URL for UI  \n",
        "***NOTE***  \n",
        "The login and password is shown in the command as  \n",
        "`--gradio-auth user:pass`\n"
      ],
      "metadata": {
        "id": "kQzl5hugszqk"
      }
    },
    {
      "cell_type": "code",
      "source": [
        "!COMMANDLINE_ARGS=\"--share --gradio-debug --gradio-auth change:me\" REQS_FILE=\"requirements.txt\" python launch.py"
      ],
      "metadata": {
        "id": "R-xAdMA5wxXd"
      },
      "execution_count": null,
      "outputs": []
    },
    {
      "cell_type": "markdown",
      "source": [
        "## ***RUN THIS AFTER Web UI has initiated*** to install extensions  \n",
        "...like mask painting, video, and animation creation.  \n",
        "(or whatver you'd like to add to the scripts directory)  \n",
        "\n",
        "***NOTE***  \n",
        "You may have to create the outputs/***example*** directory for your addition.  \n",
        "The error code will show if your generation needs another directory added.\n",
        "## ***THEN RE-RUN ABOVE CELL***  \n",
        "***Make sure to RESTART AT THE BOTTOM OF THE SETTINGS TAB within the app!***"
      ],
      "metadata": {
        "id": "ORWTdkJA57tB"
      }
    },
    {
      "cell_type": "code",
      "source": [
        "!git clone https://github.com/memes-forever/Stable-diffusion-webui-video.git && mkdir /content/stable-diffusion-webui/outputs/img2img-videos/outputs/img2img-images"
      ],
      "metadata": {
        "id": "ALbMxSIeyLph"
      },
      "execution_count": null,
      "outputs": []
    },
    {
      "cell_type": "code",
      "source": [
        "!apt install ffmpeg && git clone https://github.com/Animator-Anon/Animator.git && mkdir /content/stable-diffusion-webui/outputs/outputs/img2img-images"
      ],
      "metadata": {
        "id": "0xic-r3ox9u9"
      },
      "execution_count": null,
      "outputs": []
    },
    {
      "cell_type": "code",
      "source": [
        "!git clone https://github.com/dfaker/stable-diffusion-webui-cv2-external-masking-script.git && py -m pip install opencv-python"
      ],
      "metadata": {
        "id": "byRUx-ZcuCGI"
      },
      "execution_count": null,
      "outputs": []
    },
    {
      "cell_type": "code",
      "source": [
        "!mv /content/stable-diffusion-webui/Animator/animation.py /content/stable-diffusion-webui/Stable-diffusion-webui-video/videos.py /content/stable-diffusion-webui/stable-diffusion-webui-cv2-external-masking-script/external_masking.py /content/stable-diffusion-webui/scripts "
      ],
      "metadata": {
        "id": "pLzU4bDA0qXB"
      },
      "execution_count": null,
      "outputs": []
    }
  ]
}